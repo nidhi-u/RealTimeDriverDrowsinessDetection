{
 "cells": [
  {
   "cell_type": "code",
   "execution_count": 1,
   "metadata": {},
   "outputs": [
    {
     "name": "stdout",
     "output_type": "stream",
     "text": [
      "pygame 2.0.1 (SDL 2.0.14, Python 3.8.5)\n",
      "Hello from the pygame community. https://www.pygame.org/contribute.html\n"
     ]
    }
   ],
   "source": [
    "## tensorboard --logdir logs/\n",
    "import cv2\n",
    "import numpy as np\n",
    "import tensorflow as tf\n",
    "from pygame import mixer\n",
    "import time\n",
    "import dlib"
   ]
  },
  {
   "cell_type": "code",
   "execution_count": 2,
   "metadata": {
    "id": "55yq1tSk5ESp"
   },
   "outputs": [],
   "source": [
    "model = tf.keras.models.load_model(\"Yawn_Tracking_CNN_aug.model\")"
   ]
  },
  {
   "cell_type": "code",
   "execution_count": 3,
   "metadata": {},
   "outputs": [],
   "source": [
    "categories = ['yawn','no_yawn']\n",
    "\n",
    "def prepare(img):\n",
    "    image_size = 100\n",
    "    new_array = cv2.resize(img, (image_size, image_size))\n",
    "    return new_array.reshape(-1, image_size, image_size, 1)"
   ]
  },
  {
   "cell_type": "code",
   "execution_count": 4,
   "metadata": {},
   "outputs": [],
   "source": [
    "detector = dlib.get_frontal_face_detector()\n",
    "predictor = dlib.shape_predictor('shape_68.dat')"
   ]
  },
  {
   "cell_type": "code",
   "execution_count": 5,
   "metadata": {},
   "outputs": [],
   "source": [
    "display = {\n",
    "    0 : 'Yawn',\n",
    "    1 : 'No Yawn'\n",
    "}\n",
    "\n",
    "def yawn_detector(img):\n",
    "    # Convert image to grayscale\n",
    "    gray = cv2.cvtColor(img,cv2.COLOR_BGR2GRAY)\n",
    "    \n",
    "    ## feed to model\n",
    "    prediction = model.predict([prepare(gray)])\n",
    "    \n",
    "    ## output results\n",
    "    img=cv2.putText(img, \"Prediction: \" + display[int(prediction[0][0])], (50, 50), cv2.FONT_HERSHEY_SIMPLEX, 1, (255, 0, 0), 2, cv2.LINE_AA)\n",
    "\n",
    "    return img, flags\n",
    "\n",
    "cap = cv2.VideoCapture(0)\n",
    "\n",
    "while True:\n",
    "    ret, frame = cap.read()\n",
    "    cv2.imshow('Are You Drowsy?', yawn_detector(frame))\n",
    "    if cv2.waitKey(1) == 13: #13 is the Enter Key\n",
    "        break\n",
    "        \n",
    "cap.release()\n",
    "cv2.destroyAllWindows()"
   ]
  },
  {
   "cell_type": "code",
   "execution_count": 8,
   "metadata": {},
   "outputs": [],
   "source": [
    "# :D but song is playing\n",
    "# mixer.music.stop()"
   ]
  },
  {
   "cell_type": "code",
   "execution_count": 9,
   "metadata": {},
   "outputs": [],
   "source": [
    "# display = {\n",
    "#     0 : 'Yawn',\n",
    "#     1 : 'No Yawn'\n",
    "# }\n",
    "\n",
    "# def yawn_detector(img, size=0.5):\n",
    "#     # Convert image to grayscale\n",
    "#     gray = cv2.cvtColor(img,cv2.COLOR_BGR2GRAY)\n",
    "    \n",
    "#     ## feed to model\n",
    "#     prediction = model.predict([prepare(gray)])\n",
    "    \n",
    "#     ## output results\n",
    "#     img=cv2.putText(img, \"Prediction: \" + display[int(prediction[0][0])], (50, 50), cv2.FONT_HERSHEY_SIMPLEX, 1, (255, 0, 0), 2, cv2.LINE_AA)\n",
    "\n",
    "#     return img\n",
    "\n",
    "# frame = cv2.imread(r\"C:\\Users\\Deboparna Banerjee\\Desktop\\College\\Sem6\\software engineering\\project\\user06\\YawDD dataset\\Dash\\Female\\8-FemaleGlasses\\frame2292.jpg\")\n",
    "# cv2.imshow('Are you drowsy?', yawn_detector(frame))\n",
    "# cv2.waitKey()"
   ]
  }
 ],
 "metadata": {
  "colab": {
   "collapsed_sections": [],
   "name": "Drowsiness CNN.ipynb",
   "provenance": []
  },
  "kernelspec": {
   "display_name": "Python 3",
   "language": "python",
   "name": "python3"
  },
  "language_info": {
   "codemirror_mode": {
    "name": "ipython",
    "version": 3
   },
   "file_extension": ".py",
   "mimetype": "text/x-python",
   "name": "python",
   "nbconvert_exporter": "python",
   "pygments_lexer": "ipython3",
   "version": "3.8.5"
  }
 },
 "nbformat": 4,
 "nbformat_minor": 1
}
